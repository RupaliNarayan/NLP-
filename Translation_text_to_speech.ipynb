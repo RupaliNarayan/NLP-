{
 "cells": [
  {
   "cell_type": "code",
   "execution_count": 5,
   "id": "7ac7b454-9a42-4b58-90e5-d92ee80cc6a4",
   "metadata": {},
   "outputs": [
    {
     "name": "stdout",
     "output_type": "stream",
     "text": [
      "Requirement already satisfied: gtts in c:\\users\\jk261\\anaconda3\\lib\\site-packages (2.5.4)\n",
      "Requirement already satisfied: requests<3,>=2.27 in c:\\users\\jk261\\anaconda3\\lib\\site-packages (from gtts) (2.32.2)\n",
      "Requirement already satisfied: click<8.2,>=7.1 in c:\\users\\jk261\\anaconda3\\lib\\site-packages (from gtts) (8.1.7)\n",
      "Requirement already satisfied: colorama in c:\\users\\jk261\\anaconda3\\lib\\site-packages (from click<8.2,>=7.1->gtts) (0.4.6)\n",
      "Requirement already satisfied: charset-normalizer<4,>=2 in c:\\users\\jk261\\anaconda3\\lib\\site-packages (from requests<3,>=2.27->gtts) (2.0.4)\n",
      "Requirement already satisfied: idna<4,>=2.5 in c:\\users\\jk261\\anaconda3\\lib\\site-packages (from requests<3,>=2.27->gtts) (3.7)\n",
      "Requirement already satisfied: urllib3<3,>=1.21.1 in c:\\users\\jk261\\anaconda3\\lib\\site-packages (from requests<3,>=2.27->gtts) (2.2.2)\n",
      "Requirement already satisfied: certifi>=2017.4.17 in c:\\users\\jk261\\anaconda3\\lib\\site-packages (from requests<3,>=2.27->gtts) (2024.7.4)\n"
     ]
    }
   ],
   "source": [
    "!pip install gtts\n",
    "#google text to speech"
   ]
  },
  {
   "cell_type": "code",
   "execution_count": 9,
   "id": "1fac0aa2-0f62-401c-801f-f421936c32ea",
   "metadata": {},
   "outputs": [],
   "source": [
    "from gtts import gTTS"
   ]
  },
  {
   "cell_type": "code",
   "execution_count": 13,
   "id": "70c61365-8182-4653-b465-da1c5850e2e9",
   "metadata": {},
   "outputs": [],
   "source": [
    "text=\"Deep learning is a type of artificial intelligence (AI) that uses artificial neural networks to teach computers how to process data. It's a subset of machine learning.\" \n",
    "speech=gTTS(text=text,lang=\"fr\")\n",
    "speech.save(\"en_fr.mp3\")"
   ]
  },
  {
   "cell_type": "code",
   "execution_count": 15,
   "id": "e40db310-20b3-42de-92fa-17ff879bd201",
   "metadata": {},
   "outputs": [],
   "source": [
    "text1=\"Deep learning is a type of artificial intelligence (AI) that uses artificial neural networks to teach computers how to process data. It's a subset of machine learning.\" \n",
    "speech=gTTS(text=text,lang=\"hi\")\n",
    "speech.save(\"en_hi.mp3\")"
   ]
  },
  {
   "cell_type": "code",
   "execution_count": null,
   "id": "26813275-cc11-4d3b-9de3-e55ccbaf8ba2",
   "metadata": {},
   "outputs": [],
   "source": []
  }
 ],
 "metadata": {
  "kernelspec": {
   "display_name": "Python 3 (ipykernel)",
   "language": "python",
   "name": "python3"
  },
  "language_info": {
   "codemirror_mode": {
    "name": "ipython",
    "version": 3
   },
   "file_extension": ".py",
   "mimetype": "text/x-python",
   "name": "python",
   "nbconvert_exporter": "python",
   "pygments_lexer": "ipython3",
   "version": "3.12.4"
  }
 },
 "nbformat": 4,
 "nbformat_minor": 5
}
