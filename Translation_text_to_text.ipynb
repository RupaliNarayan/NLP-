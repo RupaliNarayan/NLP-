{
 "cells": [
  {
   "cell_type": "code",
   "execution_count": 1,
   "id": "d2d27ba4-ae86-4d46-ac4a-6f8314be00d4",
   "metadata": {},
   "outputs": [
    {
     "name": "stdout",
     "output_type": "stream",
     "text": [
      "Collecting deep-translator\n",
      "  Downloading deep_translator-1.11.4-py3-none-any.whl.metadata (30 kB)\n",
      "Requirement already satisfied: beautifulsoup4<5.0.0,>=4.9.1 in c:\\users\\jk261\\anaconda3\\lib\\site-packages (from deep-translator) (4.12.3)\n",
      "Requirement already satisfied: requests<3.0.0,>=2.23.0 in c:\\users\\jk261\\anaconda3\\lib\\site-packages (from deep-translator) (2.32.2)\n",
      "Requirement already satisfied: soupsieve>1.2 in c:\\users\\jk261\\anaconda3\\lib\\site-packages (from beautifulsoup4<5.0.0,>=4.9.1->deep-translator) (2.5)\n",
      "Requirement already satisfied: charset-normalizer<4,>=2 in c:\\users\\jk261\\anaconda3\\lib\\site-packages (from requests<3.0.0,>=2.23.0->deep-translator) (2.0.4)\n",
      "Requirement already satisfied: idna<4,>=2.5 in c:\\users\\jk261\\anaconda3\\lib\\site-packages (from requests<3.0.0,>=2.23.0->deep-translator) (3.7)\n",
      "Requirement already satisfied: urllib3<3,>=1.21.1 in c:\\users\\jk261\\anaconda3\\lib\\site-packages (from requests<3.0.0,>=2.23.0->deep-translator) (2.2.2)\n",
      "Requirement already satisfied: certifi>=2017.4.17 in c:\\users\\jk261\\anaconda3\\lib\\site-packages (from requests<3.0.0,>=2.23.0->deep-translator) (2024.7.4)\n",
      "Downloading deep_translator-1.11.4-py3-none-any.whl (42 kB)\n",
      "   ---------------------------------------- 0.0/42.3 kB ? eta -:--:--\n",
      "   ---------------------------------------- 0.0/42.3 kB ? eta -:--:--\n",
      "   ---------------------------------------- 0.0/42.3 kB ? eta -:--:--\n",
      "   ------------------- -------------------- 20.5/42.3 kB ? eta -:--:--\n",
      "   ---------------------------------------- 42.3/42.3 kB 681.8 kB/s eta 0:00:00\n",
      "Installing collected packages: deep-translator\n",
      "Successfully installed deep-translator-1.11.4\n"
     ]
    }
   ],
   "source": [
    "!pip install deep-translator"
   ]
  },
  {
   "cell_type": "code",
   "execution_count": 3,
   "id": "c1de4535-f184-41f5-97eb-f44fe6e9fb0c",
   "metadata": {},
   "outputs": [],
   "source": [
    "from deep_translator import GoogleTranslator"
   ]
  },
  {
   "cell_type": "code",
   "execution_count": 5,
   "id": "8ab186ec-453e-43a6-b8e8-5b3f6d0ffa16",
   "metadata": {},
   "outputs": [],
   "source": [
    "text=\"Je ne comprends pas\""
   ]
  },
  {
   "cell_type": "code",
   "execution_count": 7,
   "id": "55ac0d79-7215-4395-837b-aeecdcd7bf53",
   "metadata": {},
   "outputs": [],
   "source": [
    "translated=GoogleTranslator(source='fr',target=\"hi\").translate(text)"
   ]
  },
  {
   "cell_type": "code",
   "execution_count": 9,
   "id": "30e9105f-6700-4b12-8937-0210b7713223",
   "metadata": {},
   "outputs": [
    {
     "data": {
      "text/plain": [
       "'मैं नहीं समझता'"
      ]
     },
     "execution_count": 9,
     "metadata": {},
     "output_type": "execute_result"
    }
   ],
   "source": [
    "translated"
   ]
  },
  {
   "cell_type": "code",
   "execution_count": 11,
   "id": "24a5a712-0f0b-4fae-884b-18f2f728e704",
   "metadata": {},
   "outputs": [],
   "source": [
    "translated1=GoogleTranslator(source='fr',target=\"en\").translate(text)"
   ]
  },
  {
   "cell_type": "code",
   "execution_count": 13,
   "id": "5e31f7c6-1e5f-49dc-bd85-764f97e6b0e2",
   "metadata": {},
   "outputs": [
    {
     "data": {
      "text/plain": [
       "\"I don't understand\""
      ]
     },
     "execution_count": 13,
     "metadata": {},
     "output_type": "execute_result"
    }
   ],
   "source": [
    "translated1"
   ]
  },
  {
   "cell_type": "code",
   "execution_count": null,
   "id": "8874adb3-09c9-4867-ba39-e2141c8b1da8",
   "metadata": {},
   "outputs": [],
   "source": []
  }
 ],
 "metadata": {
  "kernelspec": {
   "display_name": "Python 3 (ipykernel)",
   "language": "python",
   "name": "python3"
  },
  "language_info": {
   "codemirror_mode": {
    "name": "ipython",
    "version": 3
   },
   "file_extension": ".py",
   "mimetype": "text/x-python",
   "name": "python",
   "nbconvert_exporter": "python",
   "pygments_lexer": "ipython3",
   "version": "3.12.4"
  }
 },
 "nbformat": 4,
 "nbformat_minor": 5
}
